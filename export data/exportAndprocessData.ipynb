{
 "cells": [
  {
   "cell_type": "markdown",
   "metadata": {
    "id": "oSjsTb_1_Bf9"
   },
   "source": [
    "**Install dependencies**"
   ]
  },
  {
   "cell_type": "code",
   "execution_count": 1,
   "metadata": {
    "colab": {
     "base_uri": "https://localhost:8080/"
    },
    "executionInfo": {
     "elapsed": 8714,
     "status": "ok",
     "timestamp": 1629638921629,
     "user": {
      "displayName": "tahere talaei",
      "photoUrl": "https://lh3.googleusercontent.com/a-/AOh14GjA4BZkhJs4dl0mSFEMcysMUkYXol1GW6dwrSFOtg=s64",
      "userId": "16613548384616831333"
     },
     "user_tz": -270
    },
    "id": "KZ5CxEnpF9BI",
    "outputId": "aabd8149-cca6-4ef9-e288-785a6f52e0dc"
   },
   "outputs": [
    {
     "name": "stdout",
     "output_type": "stream",
     "text": [
      "Requirement already satisfied: telethon in /usr/local/lib/python3.7/dist-packages (1.23.0)\n",
      "Requirement already satisfied: rsa in /usr/local/lib/python3.7/dist-packages (from telethon) (4.7.2)\n",
      "Requirement already satisfied: pyaes in /usr/local/lib/python3.7/dist-packages (from telethon) (1.6.1)\n",
      "Requirement already satisfied: pyasn1>=0.1.3 in /usr/local/lib/python3.7/dist-packages (from rsa->telethon) (0.4.8)\n",
      "Requirement already satisfied: emoji in /usr/local/lib/python3.7/dist-packages (1.4.2)\n",
      "Requirement already satisfied: hazm in /usr/local/lib/python3.7/dist-packages (0.7.0)\n",
      "Requirement already satisfied: libwapiti>=0.2.1 in /usr/local/lib/python3.7/dist-packages (from hazm) (0.2.1)\n",
      "Requirement already satisfied: nltk==3.3 in /usr/local/lib/python3.7/dist-packages (from hazm) (3.3)\n",
      "Requirement already satisfied: six in /usr/local/lib/python3.7/dist-packages (from nltk==3.3->hazm) (1.15.0)\n"
     ]
    }
   ],
   "source": [
    "!pip install telethon\n",
    "!pip install emoji\n",
    "!pip install hazm"
   ]
  },
  {
   "cell_type": "code",
   "execution_count": 2,
   "metadata": {
    "colab": {
     "base_uri": "https://localhost:8080/"
    },
    "executionInfo": {
     "elapsed": 17,
     "status": "ok",
     "timestamp": 1629638921630,
     "user": {
      "displayName": "tahere talaei",
      "photoUrl": "https://lh3.googleusercontent.com/a-/AOh14GjA4BZkhJs4dl0mSFEMcysMUkYXol1GW6dwrSFOtg=s64",
      "userId": "16613548384616831333"
     },
     "user_tz": -270
    },
    "id": "KbqeCiB8qJTJ",
    "outputId": "5d08dd0f-b3bf-40e1-eb60-bf9e8d8c9e4d"
   },
   "outputs": [
    {
     "name": "stdout",
     "output_type": "stream",
     "text": [
      "/content/drive/MyDrive/nlp project\n"
     ]
    }
   ],
   "source": [
    "%cd \"/content/drive/MyDrive/nlp project\""
   ]
  },
  {
   "cell_type": "code",
   "execution_count": 3,
   "metadata": {
    "executionInfo": {
     "elapsed": 2192,
     "status": "ok",
     "timestamp": 1629638923809,
     "user": {
      "displayName": "tahere talaei",
      "photoUrl": "https://lh3.googleusercontent.com/a-/AOh14GjA4BZkhJs4dl0mSFEMcysMUkYXol1GW6dwrSFOtg=s64",
      "userId": "16613548384616831333"
     },
     "user_tz": -270
    },
    "id": "R882Hduiu8r8"
   },
   "outputs": [],
   "source": [
    "from __future__ import unicode_literals\n",
    "import json\n",
    "import os\n",
    "import re\n",
    "import emoji\n",
    "import pandas as pd\n",
    "import numpy as np\n",
    "import datetime\n",
    "from hazm import *\n",
    "\n",
    "import utils"
   ]
  },
  {
   "cell_type": "markdown",
   "metadata": {
    "id": "Ch8EnYwW_Kiz"
   },
   "source": [
    "# Get data from Telegram\n",
    "run get_data_from_telegram.py scrips to stroe data of specific channel in telegram_data directory.\n",
    "\n",
    "channel is the name of channel \n",
    "\n",
    "period is the total days we want to get data (here we get data of 2 years from each channel)"
   ]
  },
  {
   "cell_type": "code",
   "execution_count": null,
   "metadata": {
    "colab": {
     "base_uri": "https://localhost:8080/"
    },
    "executionInfo": {
     "elapsed": 1465407,
     "status": "ok",
     "timestamp": 1628181140354,
     "user": {
      "displayName": "tahere talaei",
      "photoUrl": "https://lh3.googleusercontent.com/a-/AOh14GjA4BZkhJs4dl0mSFEMcysMUkYXol1GW6dwrSFOtg=s64",
      "userId": "16613548384616831333"
     },
     "user_tz": -270
    },
    "id": "D0eeoHyGH-sw",
    "outputId": "4a575253-6c45-4bd7-eaf2-e456e9dcc081"
   },
   "outputs": [
    {
     "name": "stdout",
     "output_type": "stream",
     "text": [
      "channel:  https://t.me/AgahMoshaver  period:  730 days  output_location:  AgahMoshaver.json\n",
      "total messages:  24016\n",
      "messages and dates are stored in  AgahMoshaver.json\n",
      "channel:  https://t.me/betasahm1  period:  730 days  output_location:  betasahm1.json\n",
      "total messages:  45091\n",
      "messages and dates are stored in  betasahm1.json\n",
      "channel:  https://t.me/codal_ir  period:  730 days  output_location:  codal_ir.json\n",
      "total messages:  15369\n",
      "messages and dates are stored in  codal_ir.json\n"
     ]
    }
   ],
   "source": [
    "!python get_data_from_telegram.py  --channel='AgahMoshaver' --period=730\n",
    "!python get_data_from_telegram.py  --channel='betasahm1' --period=730\n",
    "!python get_data_from_telegram.py  --channel='codal_ir' --period=730\n",
    "!python get_data_from_telegram.py --channel='TsetmcBlog' --period=730\n",
    "!python get_data_from_telegram.py --channel='NoavaranAmin' --period=730"
   ]
  },
  {
   "cell_type": "markdown",
   "metadata": {
    "id": "HMoTeGHB_0yZ"
   },
   "source": [
    "# read prices data\n",
    "data for our selecetd nemad are downloaded from tsetmc and stored in tsetmc directory"
   ]
  },
  {
   "cell_type": "code",
   "execution_count": 4,
   "metadata": {
    "executionInfo": {
     "elapsed": 9,
     "status": "ok",
     "timestamp": 1629638923810,
     "user": {
      "displayName": "tahere talaei",
      "photoUrl": "https://lh3.googleusercontent.com/a-/AOh14GjA4BZkhJs4dl0mSFEMcysMUkYXol1GW6dwrSFOtg=s64",
      "userId": "16613548384616831333"
     },
     "user_tz": -270
    },
    "id": "4P9jzlCou8ma"
   },
   "outputs": [],
   "source": [
    "shaspa = pd.read_csv('/content/drive/MyDrive/nlp project/tsetmc/shaspa.csv')\n",
    "kmase = pd.read_csv('/content/drive/MyDrive/nlp project/tsetmc/kmase.csv')\n",
    "vpars = pd.read_csv('/content/drive/MyDrive/nlp project/tsetmc/vpars.csv')\n",
    "vtejarat = pd.read_csv('/content/drive/MyDrive/nlp project/tsetmc/vtejarat.csv')\n",
    "famli = pd.read_csv('/content/drive/MyDrive/nlp project/tsetmc/famli.csv')\n",
    "foolad = pd.read_csv('/content/drive/MyDrive/nlp project/tsetmc/foolad.csv')\n",
    "kgol = pd.read_csv('/content/drive/MyDrive/nlp project/tsetmc/kgol.csv')\n",
    "kama = pd.read_csv('/content/drive/MyDrive/nlp project/tsetmc/kama.csv')\n",
    "ghesabat = pd.read_csv('/content/drive/MyDrive/nlp project/tsetmc/ghesabat.csv')\n",
    "vmelt = pd.read_csv('/content/drive/MyDrive/nlp project/tsetmc/vmelt.csv')\n",
    "khodro = pd.read_csv('/content/drive/MyDrive/nlp project/tsetmc/khodro.csv')\n",
    "fakhooz = pd.read_csv('/content/drive/MyDrive/nlp project/tsetmc/fakhooz.csv')\n",
    "khsaipa = pd.read_csv('/content/drive/MyDrive/nlp project/tsetmc/khsaipa.csv')\n",
    "kachad = pd.read_csv('/content/drive/MyDrive/nlp project/tsetmc/kachad.csv')\n",
    "shapna = pd.read_csv('/content/drive/MyDrive/nlp project/tsetmc/shapna.csv')\n",
    "shbandar = pd.read_csv('/content/drive/MyDrive/nlp project/tsetmc/shbandar.csv')\n",
    "shtran = pd.read_csv('/content/drive/MyDrive/nlp project/tsetmc/shtran.csv')\n",
    "rmapna = pd.read_csv('/content/drive/MyDrive/nlp project/tsetmc/rmapna.csv')\n",
    "khpars = pd.read_csv('/content/drive/MyDrive/nlp project/tsetmc/khpars.csv')\n",
    "shabriz = pd.read_csv('/content/drive/MyDrive/nlp project/tsetmc/shabriz.csv')\n",
    "fars = pd.read_csv('/content/drive/MyDrive/nlp project/tsetmc/fars.csv')\n",
    "vghadir = pd.read_csv('/content/drive/MyDrive/nlp project/tsetmc/vghadir.csv')"
   ]
  },
  {
   "cell_type": "code",
   "execution_count": 5,
   "metadata": {
    "executionInfo": {
     "elapsed": 9,
     "status": "ok",
     "timestamp": 1629638923811,
     "user": {
      "displayName": "tahere talaei",
      "photoUrl": "https://lh3.googleusercontent.com/a-/AOh14GjA4BZkhJs4dl0mSFEMcysMUkYXol1GW6dwrSFOtg=s64",
      "userId": "16613548384616831333"
     },
     "user_tz": -270
    },
    "id": "uF-clhBRu8uh"
   },
   "outputs": [],
   "source": [
    "nemad_list = {'خودرو' :khodro   ,\n",
    "              'خساپا'  :khsaipa  ,\n",
    "              'فولاد'  :foolad   ,\n",
    "              'فملی'  :famli    ,\n",
    "              'وتجارت':vtejarat ,\n",
    "              'فخوز'  :fakhooz  ,\n",
    "              'وبملت'  :vmelt,\n",
    "              'شستا'   : shaspa ,\n",
    "              'وپارس' : vpars,\n",
    "              'کگل' : kgol,\n",
    "              'کاما' : kama,\n",
    "              'قثابت' : ghesabat,\n",
    "              'کماسه': kmase,\n",
    "              'کچاد' : kachad,\n",
    "              'شپنا' : shapna,\n",
    "              'شبندر' : shbandar,\n",
    "              'شتران' : shtran,\n",
    "              'رمپنا' : rmapna,\n",
    "              'خپارس' : khpars,\n",
    "              'شبریز' : shabriz,\n",
    "              'فارس' : fars,\n",
    "              'وغدیر' : vghadir}\n",
    "\n",
    "nemad_num = {'خودرو' :0   ,\n",
    "              'خساپا'  :1  ,\n",
    "              'فولاد'  :2   ,\n",
    "              'فملی'  :3    ,\n",
    "              'وتجارت':4 ,\n",
    "              'فخوز'  :5  ,\n",
    "              'وبملت'  :6,\n",
    "              'شستا'   : 7 ,\n",
    "              'وپارس' : 8,\n",
    "              'کگل' : 9,\n",
    "              'کاما' : 10,\n",
    "              'قثابت' : 11,\n",
    "              'کماسه': 12,\n",
    "              'کچاد' : 13,\n",
    "              'شپنا' : 14,\n",
    "              'شبندر' : 15,\n",
    "              'شتران' : 16,\n",
    "              'رمپنا' : 17,\n",
    "              'خپارس' : 18,\n",
    "              'شبریز' : 19,\n",
    "             'فارس' : 20,\n",
    "              'وغدیر' : 21}"
   ]
  },
  {
   "cell_type": "code",
   "execution_count": 6,
   "metadata": {
    "executionInfo": {
     "elapsed": 9,
     "status": "ok",
     "timestamp": 1629638923812,
     "user": {
      "displayName": "tahere talaei",
      "photoUrl": "https://lh3.googleusercontent.com/a-/AOh14GjA4BZkhJs4dl0mSFEMcysMUkYXol1GW6dwrSFOtg=s64",
      "userId": "16613548384616831333"
     },
     "user_tz": -270
    },
    "id": "xqFDj3f-zDnh"
   },
   "outputs": [],
   "source": [
    "channel = ['TsetmcBlog', 'AgahMoshaver' , 'betasahm1' , 'codal_ir' , 'NoavaranAmin']"
   ]
  },
  {
   "cell_type": "markdown",
   "metadata": {
    "id": "e07Ts7TZBdAJ"
   },
   "source": [
    "# binary labels"
   ]
  },
  {
   "cell_type": "code",
   "execution_count": 7,
   "metadata": {
    "executionInfo": {
     "elapsed": 258837,
     "status": "ok",
     "timestamp": 1629639182642,
     "user": {
      "displayName": "tahere talaei",
      "photoUrl": "https://lh3.googleusercontent.com/a-/AOh14GjA4BZkhJs4dl0mSFEMcysMUkYXol1GW6dwrSFOtg=s64",
      "userId": "16613548384616831333"
     },
     "user_tz": -270
    },
    "id": "kXRP8UiQBZTL"
   },
   "outputs": [],
   "source": [
    "df = utils.construct_data(channel , mode='binary')"
   ]
  },
  {
   "cell_type": "code",
   "execution_count": 8,
   "metadata": {
    "colab": {
     "base_uri": "https://localhost:8080/",
     "height": 423
    },
    "executionInfo": {
     "elapsed": 14,
     "status": "ok",
     "timestamp": 1629639182646,
     "user": {
      "displayName": "tahere talaei",
      "photoUrl": "https://lh3.googleusercontent.com/a-/AOh14GjA4BZkhJs4dl0mSFEMcysMUkYXol1GW6dwrSFOtg=s64",
      "userId": "16613548384616831333"
     },
     "user_tz": -270
    },
    "id": "Xt5teW6CBgNC",
    "outputId": "d568f498-1df5-43c8-b27e-b27751d8bad2"
   },
   "outputs": [
    {
     "data": {
      "text/html": [
       "<div>\n",
       "<style scoped>\n",
       "    .dataframe tbody tr th:only-of-type {\n",
       "        vertical-align: middle;\n",
       "    }\n",
       "\n",
       "    .dataframe tbody tr th {\n",
       "        vertical-align: top;\n",
       "    }\n",
       "\n",
       "    .dataframe thead th {\n",
       "        text-align: right;\n",
       "    }\n",
       "</style>\n",
       "<table border=\"1\" class=\"dataframe\">\n",
       "  <thead>\n",
       "    <tr style=\"text-align: right;\">\n",
       "      <th></th>\n",
       "      <th>channel_name</th>\n",
       "      <th>nemad</th>\n",
       "      <th>news</th>\n",
       "      <th>news_time</th>\n",
       "      <th>label_day</th>\n",
       "      <th>label_time</th>\n",
       "      <th>c</th>\n",
       "    </tr>\n",
       "  </thead>\n",
       "  <tbody>\n",
       "    <tr>\n",
       "      <th>0</th>\n",
       "      <td>TsetmcBlog</td>\n",
       "      <td>شستا</td>\n",
       "      <td>خلاصه بازار امروز / ۷ تیر ۱۴۰۰ \\nارزش معاملات ...</td>\n",
       "      <td>2021-06-28</td>\n",
       "      <td>1</td>\n",
       "      <td>2021-06-29</td>\n",
       "      <td>1</td>\n",
       "    </tr>\n",
       "    <tr>\n",
       "      <th>1</th>\n",
       "      <td>TsetmcBlog</td>\n",
       "      <td>خساپا</td>\n",
       "      <td>#خساپا اگه موفق بشه صف خریدش رو حفظ کنه اوضاع ...</td>\n",
       "      <td>2021-06-23</td>\n",
       "      <td>0</td>\n",
       "      <td>2021-06-26</td>\n",
       "      <td>3</td>\n",
       "    </tr>\n",
       "    <tr>\n",
       "      <th>2</th>\n",
       "      <td>TsetmcBlog</td>\n",
       "      <td>شبریز</td>\n",
       "      <td>#شبریز\\n\\n شرکت پالایش نفت تبریز در سال ۹۹ به ...</td>\n",
       "      <td>2021-06-21</td>\n",
       "      <td>0</td>\n",
       "      <td>2021-06-22</td>\n",
       "      <td>1</td>\n",
       "    </tr>\n",
       "    <tr>\n",
       "      <th>3</th>\n",
       "      <td>TsetmcBlog</td>\n",
       "      <td>شستا</td>\n",
       "      <td>خلاصه بازار امروز / ۳۱ خرداد ۱۴۰۰ \\n\\nپایان خر...</td>\n",
       "      <td>2021-06-21</td>\n",
       "      <td>1</td>\n",
       "      <td>2021-06-22</td>\n",
       "      <td>1</td>\n",
       "    </tr>\n",
       "    <tr>\n",
       "      <th>4</th>\n",
       "      <td>TsetmcBlog</td>\n",
       "      <td>شپنا</td>\n",
       "      <td>خلاصه بازار امروز / ۳۰ خرداد ۱۴۰۰ \\n\\nساز مخال...</td>\n",
       "      <td>2021-06-20</td>\n",
       "      <td>0</td>\n",
       "      <td>2021-06-21</td>\n",
       "      <td>1</td>\n",
       "    </tr>\n",
       "    <tr>\n",
       "      <th>...</th>\n",
       "      <td>...</td>\n",
       "      <td>...</td>\n",
       "      <td>...</td>\n",
       "      <td>...</td>\n",
       "      <td>...</td>\n",
       "      <td>...</td>\n",
       "      <td>...</td>\n",
       "    </tr>\n",
       "    <tr>\n",
       "      <th>8603</th>\n",
       "      <td>NoavaranAmin</td>\n",
       "      <td>وبملت</td>\n",
       "      <td>️️️️تایید حسابرس بر سود ۲۴۲۰ ریالی بانک ملت #و...</td>\n",
       "      <td>2019-07-14</td>\n",
       "      <td>0</td>\n",
       "      <td>2019-10-02</td>\n",
       "      <td>80</td>\n",
       "    </tr>\n",
       "    <tr>\n",
       "      <th>8604</th>\n",
       "      <td>NoavaranAmin</td>\n",
       "      <td>کچاد</td>\n",
       "      <td>#کچاد با حجم بالای معاملاتی مورد توجه قرار گرف...</td>\n",
       "      <td>2019-07-14</td>\n",
       "      <td>0</td>\n",
       "      <td>2019-07-15</td>\n",
       "      <td>1</td>\n",
       "    </tr>\n",
       "    <tr>\n",
       "      <th>8605</th>\n",
       "      <td>NoavaranAmin</td>\n",
       "      <td>کگل</td>\n",
       "      <td>#کگل در کنار سایر معدنی‌ها مورد توجه قرار گرفت...</td>\n",
       "      <td>2019-07-13</td>\n",
       "      <td>0</td>\n",
       "      <td>2019-07-14</td>\n",
       "      <td>1</td>\n",
       "    </tr>\n",
       "    <tr>\n",
       "      <th>8606</th>\n",
       "      <td>NoavaranAmin</td>\n",
       "      <td>فولاد</td>\n",
       "      <td>️️️️عملکرد عالی #فولاد در سال ۹۸\\n\\n#اطلاعات_و...</td>\n",
       "      <td>2019-07-08</td>\n",
       "      <td>1</td>\n",
       "      <td>2019-07-09</td>\n",
       "      <td>1</td>\n",
       "    </tr>\n",
       "    <tr>\n",
       "      <th>8607</th>\n",
       "      <td>NoavaranAmin</td>\n",
       "      <td>وپارس</td>\n",
       "      <td>️️️️عملکرد خوب یکی از شرکتهای تابعه بانک پارسی...</td>\n",
       "      <td>2019-07-06</td>\n",
       "      <td>0</td>\n",
       "      <td>2019-07-07</td>\n",
       "      <td>1</td>\n",
       "    </tr>\n",
       "  </tbody>\n",
       "</table>\n",
       "<p>8608 rows × 7 columns</p>\n",
       "</div>"
      ],
      "text/plain": [
       "      channel_name  nemad  ... label_time   c\n",
       "0       TsetmcBlog   شستا  ... 2021-06-29   1\n",
       "1       TsetmcBlog  خساپا  ... 2021-06-26   3\n",
       "2       TsetmcBlog  شبریز  ... 2021-06-22   1\n",
       "3       TsetmcBlog   شستا  ... 2021-06-22   1\n",
       "4       TsetmcBlog   شپنا  ... 2021-06-21   1\n",
       "...            ...    ...  ...        ...  ..\n",
       "8603  NoavaranAmin  وبملت  ... 2019-10-02  80\n",
       "8604  NoavaranAmin   کچاد  ... 2019-07-15   1\n",
       "8605  NoavaranAmin    کگل  ... 2019-07-14   1\n",
       "8606  NoavaranAmin  فولاد  ... 2019-07-09   1\n",
       "8607  NoavaranAmin  وپارس  ... 2019-07-07   1\n",
       "\n",
       "[8608 rows x 7 columns]"
      ]
     },
     "execution_count": 8,
     "metadata": {},
     "output_type": "execute_result"
    }
   ],
   "source": [
    "df"
   ]
  },
  {
   "cell_type": "code",
   "execution_count": 11,
   "metadata": {
    "colab": {
     "base_uri": "https://localhost:8080/"
    },
    "executionInfo": {
     "elapsed": 552,
     "status": "ok",
     "timestamp": 1629640701520,
     "user": {
      "displayName": "tahere talaei",
      "photoUrl": "https://lh3.googleusercontent.com/a-/AOh14GjA4BZkhJs4dl0mSFEMcysMUkYXol1GW6dwrSFOtg=s64",
      "userId": "16613548384616831333"
     },
     "user_tz": -270
    },
    "id": "HLdUV6GCJ3SH",
    "outputId": "0f945b5b-1614-4b97-9b0d-e62c409c8393"
   },
   "outputs": [
    {
     "name": "stdout",
     "output_type": "stream",
     "text": [
      "خودرو 696\n",
      "خساپا 626\n",
      "فولاد 645\n",
      "فملی 527\n",
      "وتجارت 520\n",
      "فخوز 291\n",
      "وبملت 573\n",
      "شستا 677\n",
      "وپارس 520\n",
      "کگل 356\n",
      "کاما 269\n",
      "قثابت 135\n",
      "کماسه 167\n",
      "کچاد 287\n",
      "شپنا 430\n",
      "شبندر 260\n",
      "شتران 239\n",
      "رمپنا 299\n",
      "خپارس 191\n",
      "شبریز 160\n",
      "فارس 441\n",
      "وغدیر 299\n",
      "8608\n"
     ]
    }
   ],
   "source": [
    "c = 0\n",
    "for n in nemad_list.keys():\n",
    "    c += len(df[df['nemad'] == n])\n",
    "    print(n , len(df[df['nemad'] == n]))\n",
    "\n",
    "print(c)"
   ]
  },
  {
   "cell_type": "code",
   "execution_count": 12,
   "metadata": {
    "colab": {
     "base_uri": "https://localhost:8080/"
    },
    "executionInfo": {
     "elapsed": 419,
     "status": "ok",
     "timestamp": 1629640737171,
     "user": {
      "displayName": "tahere talaei",
      "photoUrl": "https://lh3.googleusercontent.com/a-/AOh14GjA4BZkhJs4dl0mSFEMcysMUkYXol1GW6dwrSFOtg=s64",
      "userId": "16613548384616831333"
     },
     "user_tz": -270
    },
    "id": "4Z7K8Lf3KBj6",
    "outputId": "82cbfb92-7edd-450d-8785-0c21e5800101"
   },
   "outputs": [
    {
     "name": "stdout",
     "output_type": "stream",
     "text": [
      "zero:  4635\n",
      "one:  3973\n",
      "-:  0\n"
     ]
    }
   ],
   "source": [
    "print('zero: ' , (df['label_day'] == 0).sum())\n",
    "print('one: ' , (df['label_day'] == 1).sum())\n",
    "print('-: ' , (df['label_day'] == -1).sum())"
   ]
  },
  {
   "cell_type": "markdown",
   "metadata": {
    "id": "NOLsu4V1BiAJ"
   },
   "source": [
    "# prices in 9 days after and before"
   ]
  },
  {
   "cell_type": "code",
   "execution_count": 9,
   "metadata": {
    "colab": {
     "base_uri": "https://localhost:8080/"
    },
    "executionInfo": {
     "elapsed": 353419,
     "status": "ok",
     "timestamp": 1629639536055,
     "user": {
      "displayName": "tahere talaei",
      "photoUrl": "https://lh3.googleusercontent.com/a-/AOh14GjA4BZkhJs4dl0mSFEMcysMUkYXol1GW6dwrSFOtg=s64",
      "userId": "16613548384616831333"
     },
     "user_tz": -270
    },
    "id": "URReLnmv2oSR",
    "outputId": "68e3134c-a1f0-47ca-d6ba-99509eb93e18"
   },
   "outputs": [
    {
     "name": "stderr",
     "output_type": "stream",
     "text": [
      "/content/drive/MyDrive/nlp project/utils.py:212: VisibleDeprecationWarning: Creating an ndarray from ragged nested sequences (which is a list-or-tuple of lists-or-tuples-or ndarrays with different lengths or shapes) is deprecated. If you meant to do this, you must specify 'dtype=object' when creating the ndarray\n",
      "  df = pd.DataFrame(np.array(total_list),\n",
      "/content/drive/MyDrive/nlp project/utils.py:212: VisibleDeprecationWarning: Creating an ndarray from ragged nested sequences (which is a list-or-tuple of lists-or-tuples-or ndarrays with different lengths or shapes) is deprecated. If you meant to do this, you must specify 'dtype=object' when creating the ndarray\n",
      "  df = pd.DataFrame(np.array(total_list),\n",
      "/content/drive/MyDrive/nlp project/utils.py:212: VisibleDeprecationWarning: Creating an ndarray from ragged nested sequences (which is a list-or-tuple of lists-or-tuples-or ndarrays with different lengths or shapes) is deprecated. If you meant to do this, you must specify 'dtype=object' when creating the ndarray\n",
      "  df = pd.DataFrame(np.array(total_list),\n",
      "/content/drive/MyDrive/nlp project/utils.py:212: VisibleDeprecationWarning: Creating an ndarray from ragged nested sequences (which is a list-or-tuple of lists-or-tuples-or ndarrays with different lengths or shapes) is deprecated. If you meant to do this, you must specify 'dtype=object' when creating the ndarray\n",
      "  df = pd.DataFrame(np.array(total_list),\n",
      "/content/drive/MyDrive/nlp project/utils.py:212: VisibleDeprecationWarning: Creating an ndarray from ragged nested sequences (which is a list-or-tuple of lists-or-tuples-or ndarrays with different lengths or shapes) is deprecated. If you meant to do this, you must specify 'dtype=object' when creating the ndarray\n",
      "  df = pd.DataFrame(np.array(total_list),\n"
     ]
    }
   ],
   "source": [
    "df2 = utils.construct_data(channel , mode='9days')"
   ]
  },
  {
   "cell_type": "code",
   "execution_count": 10,
   "metadata": {
    "colab": {
     "base_uri": "https://localhost:8080/",
     "height": 614
    },
    "executionInfo": {
     "elapsed": 44,
     "status": "ok",
     "timestamp": 1629639536067,
     "user": {
      "displayName": "tahere talaei",
      "photoUrl": "https://lh3.googleusercontent.com/a-/AOh14GjA4BZkhJs4dl0mSFEMcysMUkYXol1GW6dwrSFOtg=s64",
      "userId": "16613548384616831333"
     },
     "user_tz": -270
    },
    "id": "UrWqBMFG8fVa",
    "outputId": "f77b3cb8-f65e-44aa-a01f-6702a1dadd62"
   },
   "outputs": [
    {
     "data": {
      "text/html": [
       "<div>\n",
       "<style scoped>\n",
       "    .dataframe tbody tr th:only-of-type {\n",
       "        vertical-align: middle;\n",
       "    }\n",
       "\n",
       "    .dataframe tbody tr th {\n",
       "        vertical-align: top;\n",
       "    }\n",
       "\n",
       "    .dataframe thead th {\n",
       "        text-align: right;\n",
       "    }\n",
       "</style>\n",
       "<table border=\"1\" class=\"dataframe\">\n",
       "  <thead>\n",
       "    <tr style=\"text-align: right;\">\n",
       "      <th></th>\n",
       "      <th>channel_name</th>\n",
       "      <th>nemad</th>\n",
       "      <th>news</th>\n",
       "      <th>news_time</th>\n",
       "      <th>prices after</th>\n",
       "      <th>prices before</th>\n",
       "    </tr>\n",
       "  </thead>\n",
       "  <tbody>\n",
       "    <tr>\n",
       "      <th>0</th>\n",
       "      <td>TsetmcBlog</td>\n",
       "      <td>شستا</td>\n",
       "      <td>خلاصه بازار امروز / ۷ تیر ۱۴۰۰ \\nارزش معاملات ...</td>\n",
       "      <td>2021-06-28</td>\n",
       "      <td>[17490.0, 17390.0, 0, 0, 17300.0, 17300.0, 175...</td>\n",
       "      <td>[16110.0, 16140.0, 0, 0, 16080.0, 16280.0, 163...</td>\n",
       "    </tr>\n",
       "    <tr>\n",
       "      <th>1</th>\n",
       "      <td>TsetmcBlog</td>\n",
       "      <td>خساپا</td>\n",
       "      <td>#خساپا اگه موفق بشه صف خریدش رو حفظ کنه اوضاع ...</td>\n",
       "      <td>2021-06-23</td>\n",
       "      <td>[0, 0, 1849.0, 1928.0, 1942.0, 2008.0, 1990.0,...</td>\n",
       "      <td>[1765.0, 1681.0, 1624.0, 1691.0, 0, 0, 1702.0,...</td>\n",
       "    </tr>\n",
       "    <tr>\n",
       "      <th>2</th>\n",
       "      <td>TsetmcBlog</td>\n",
       "      <td>شبریز</td>\n",
       "      <td>#شبریز\\n\\n شرکت پالایش نفت تبریز در سال ۹۹ به ...</td>\n",
       "      <td>2021-06-21</td>\n",
       "      <td>[28770.0, 30180.0, 0, 0, 31040.0, 30940.0, 316...</td>\n",
       "      <td>[27590.0, 28250.0, 0, 0, 27010.0, 25920.0, 258...</td>\n",
       "    </tr>\n",
       "    <tr>\n",
       "      <th>3</th>\n",
       "      <td>TsetmcBlog</td>\n",
       "      <td>شستا</td>\n",
       "      <td>خلاصه بازار امروز / ۳۱ خرداد ۱۴۰۰ \\n\\nپایان خر...</td>\n",
       "      <td>2021-06-21</td>\n",
       "      <td>[16280.0, 16080.0, 0, 0, 16140.0, 16110.0, 166...</td>\n",
       "      <td>[15800.0, 15770.0, 0, 0, 15160.0, 15020.0, 147...</td>\n",
       "    </tr>\n",
       "    <tr>\n",
       "      <th>4</th>\n",
       "      <td>TsetmcBlog</td>\n",
       "      <td>شپنا</td>\n",
       "      <td>خلاصه بازار امروز / ۳۰ خرداد ۱۴۰۰ \\n\\nساز مخال...</td>\n",
       "      <td>2021-06-20</td>\n",
       "      <td>[12550.0, 12920.0, 13090.0, 0, 0, 13530.0, 132...</td>\n",
       "      <td>[12650.0, 0, 0, 12280.0, 12090.0, 11940.0, 114...</td>\n",
       "    </tr>\n",
       "    <tr>\n",
       "      <th>...</th>\n",
       "      <td>...</td>\n",
       "      <td>...</td>\n",
       "      <td>...</td>\n",
       "      <td>...</td>\n",
       "      <td>...</td>\n",
       "      <td>...</td>\n",
       "    </tr>\n",
       "    <tr>\n",
       "      <th>8098</th>\n",
       "      <td>NoavaranAmin</td>\n",
       "      <td>فولاد</td>\n",
       "      <td>️️️تائید حسابرس بر عملکرد خوب #فولاد در سال ۹۷...</td>\n",
       "      <td>2019-07-14</td>\n",
       "      <td>[4425.0, 4311.0, 4297.0, 0, 0, 0, 0, 4147.0, 0]</td>\n",
       "      <td>[4428.0, 0, 0, 4461.0, 4472.0, 4504.0, 4424.0,...</td>\n",
       "    </tr>\n",
       "    <tr>\n",
       "      <th>8099</th>\n",
       "      <td>NoavaranAmin</td>\n",
       "      <td>کچاد</td>\n",
       "      <td>#کچاد با حجم بالای معاملاتی مورد توجه قرار گرف...</td>\n",
       "      <td>2019-07-14</td>\n",
       "      <td>[5133.0, 0, 0, 0, 0, 0, 5144.0, 5299.0, 0]</td>\n",
       "      <td>[4973.0, 0, 0, 4786.0, 4692.0, 4562.0, 4441.0,...</td>\n",
       "    </tr>\n",
       "    <tr>\n",
       "      <th>8100</th>\n",
       "      <td>NoavaranAmin</td>\n",
       "      <td>کگل</td>\n",
       "      <td>#کگل در کنار سایر معدنی‌ها مورد توجه قرار گرفت...</td>\n",
       "      <td>2019-07-13</td>\n",
       "      <td>[7456.0, 7540.0, 0, 7460.0, 0, 0, 7265.0, 7493...</td>\n",
       "      <td>[0, 0, 7189.0, 7132.0, 7182.0, 0, 0, 0, 0]</td>\n",
       "    </tr>\n",
       "    <tr>\n",
       "      <th>8101</th>\n",
       "      <td>NoavaranAmin</td>\n",
       "      <td>فولاد</td>\n",
       "      <td>️️️️عملکرد عالی #فولاد در سال ۹۸\\n\\n#اطلاعات_و...</td>\n",
       "      <td>2019-07-08</td>\n",
       "      <td>[4472.0, 4461.0, 0, 0, 4428.0, 4419.0, 4425.0,...</td>\n",
       "      <td>[4424.0, 4408.0, 0, 0, 4499.0, 4583.0, 4640.0,...</td>\n",
       "    </tr>\n",
       "    <tr>\n",
       "      <th>8102</th>\n",
       "      <td>NoavaranAmin</td>\n",
       "      <td>وپارس</td>\n",
       "      <td>️️️️عملکرد خوب یکی از شرکتهای تابعه بانک پارسی...</td>\n",
       "      <td>2019-07-06</td>\n",
       "      <td>[2412.0, 2428.0, 2388.0, 2467.0, 0, 0, 2587.0,...</td>\n",
       "      <td>[0, 0, 2533.0, 2489.0, 2562.0, 2631.0, 0, 0, 0]</td>\n",
       "    </tr>\n",
       "  </tbody>\n",
       "</table>\n",
       "<p>8103 rows × 6 columns</p>\n",
       "</div>"
      ],
      "text/plain": [
       "      channel_name  ...                                      prices before\n",
       "0       TsetmcBlog  ...  [16110.0, 16140.0, 0, 0, 16080.0, 16280.0, 163...\n",
       "1       TsetmcBlog  ...  [1765.0, 1681.0, 1624.0, 1691.0, 0, 0, 1702.0,...\n",
       "2       TsetmcBlog  ...  [27590.0, 28250.0, 0, 0, 27010.0, 25920.0, 258...\n",
       "3       TsetmcBlog  ...  [15800.0, 15770.0, 0, 0, 15160.0, 15020.0, 147...\n",
       "4       TsetmcBlog  ...  [12650.0, 0, 0, 12280.0, 12090.0, 11940.0, 114...\n",
       "...            ...  ...                                                ...\n",
       "8098  NoavaranAmin  ...  [4428.0, 0, 0, 4461.0, 4472.0, 4504.0, 4424.0,...\n",
       "8099  NoavaranAmin  ...  [4973.0, 0, 0, 4786.0, 4692.0, 4562.0, 4441.0,...\n",
       "8100  NoavaranAmin  ...         [0, 0, 7189.0, 7132.0, 7182.0, 0, 0, 0, 0]\n",
       "8101  NoavaranAmin  ...  [4424.0, 4408.0, 0, 0, 4499.0, 4583.0, 4640.0,...\n",
       "8102  NoavaranAmin  ...    [0, 0, 2533.0, 2489.0, 2562.0, 2631.0, 0, 0, 0]\n",
       "\n",
       "[8103 rows x 6 columns]"
      ]
     },
     "execution_count": 10,
     "metadata": {},
     "output_type": "execute_result"
    }
   ],
   "source": [
    "df2"
   ]
  },
  {
   "cell_type": "code",
   "execution_count": null,
   "metadata": {
    "id": "-QZbrm27BpdR"
   },
   "outputs": [],
   "source": []
  },
  {
   "cell_type": "code",
   "execution_count": null,
   "metadata": {
    "id": "5oiYzneqBpaC"
   },
   "outputs": [],
   "source": []
  }
 ],
 "metadata": {
  "colab": {
   "authorship_tag": "ABX9TyOjfM3IPO+ArzPtkJzvLmyT",
   "collapsed_sections": [],
   "mount_file_id": "1-Tvp_gHLcGvAx6_aMbKJU1SXLJHB5Cgi",
   "name": "data.ipynb",
   "provenance": []
  },
  "kernelspec": {
   "display_name": "Python 3",
   "language": "python",
   "name": "python3"
  },
  "language_info": {
   "codemirror_mode": {
    "name": "ipython",
    "version": 3
   },
   "file_extension": ".py",
   "mimetype": "text/x-python",
   "name": "python",
   "nbconvert_exporter": "python",
   "pygments_lexer": "ipython3",
   "version": "3.7.3"
  }
 },
 "nbformat": 4,
 "nbformat_minor": 1
}
